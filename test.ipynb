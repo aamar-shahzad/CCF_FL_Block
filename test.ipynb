{
 "cells": [
  {
   "cell_type": "code",
   "execution_count": 43,
   "metadata": {},
   "outputs": [
    {
     "name": "stdout",
     "output_type": "stream",
     "text": [
      "ConnectionError: ('Connection aborted.', RemoteDisconnected('Remote end closed connection without response'))\n"
     ]
    }
   ],
   "source": [
    "import requests\n",
    "\n",
    "# Define the URL of the service\n",
    "url = \"https://127.0.0.1:8000/app/model\"\n",
    "\n",
    "# Define the request payload with the 'msg' field\n",
    "payload = {\n",
    "    \"msg\": '{\"model_id\":123,\"modelName\":\"CNN\",\"weights\":{\"param1\":0.5,\"param2\":0.8}}'\n",
    "}\n",
    "\n",
    "headers = {\n",
    "    \"Content-Type\": \"application/json\",\n",
    "    \"Accept\": \"application/json\",\n",
    "}\n",
    "try:\n",
    "    # Send the POST request\n",
    "    response = requests.post(url, json=payload, verify=\"./workspace/sandbox_0/service_cert.pem\", timeout=10)\n",
    "\n",
    "    # Check the response status code\n",
    "    if response.status_code == 200:\n",
    "        print(\"Model uploaded successfully!\")\n",
    "    else:\n",
    "        print(\"Failed to upload the model.\")\n",
    "except requests.exceptions.ConnectionError as e:\n",
    "    print(\"ConnectionError:\", e)\n"
   ]
  }
 ],
 "metadata": {
  "kernelspec": {
   "display_name": ".venv",
   "language": "python",
   "name": "python3"
  },
  "language_info": {
   "codemirror_mode": {
    "name": "ipython",
    "version": 3
   },
   "file_extension": ".py",
   "mimetype": "text/x-python",
   "name": "python",
   "nbconvert_exporter": "python",
   "pygments_lexer": "ipython3",
   "version": "3.8.10"
  }
 },
 "nbformat": 4,
 "nbformat_minor": 2
}
