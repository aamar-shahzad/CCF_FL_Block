{
 "cells": [
  {
   "cell_type": "code",
   "execution_count": 3,
   "metadata": {},
   "outputs": [
    {
     "name": "stdout",
     "output_type": "stream",
     "text": [
      "Status Code: 0\n",
      "Response: 201\n"
     ]
    }
   ],
   "source": [
    "import subprocess\n",
    "import json\n",
    "\n",
    "url = \"https://127.0.0.1:8000/app/model\"\n",
    "cert_path = \"./workspace/sandbox_common/service_cert.pem\"\n",
    "\n",
    "headers = {\n",
    "    \"Content-Type\": \"application/json\",\n",
    "}\n",
    "\n",
    "data = {\n",
    "    \"msg\": '{\"model_id\": 123, \"modelName\": \"CNN\", \"weights\": {\"param1\": 0.5, \"param2\": 0.8}}'\n",
    "}\n",
    "\n",
    "# Convert Python dictionary to JSON string\n",
    "json_data = json.dumps(data)\n",
    "\n",
    "# Construct the curl command\n",
    "curl_command = [\n",
    "    \"curl\",\n",
    "    \"-X\", \"POST\",\n",
    "    url,\n",
    "    \"--cacert\", cert_path,\n",
    "    \"-H\", f\"Content-Type: {headers['Content-Type']}\",\n",
    "    \"-d\", json_data\n",
    "]\n",
    "\n",
    "# Run the curl command using subprocess\n",
    "result = subprocess.run(curl_command, capture_output=True, text=True)\n",
    "\n",
    "# Print the status code and response\n",
    "print(\"Status Code:\", result.returncode)\n",
    "print(\"Response:\", result.stdout)\n"
   ]
  }
 ],
 "metadata": {
  "kernelspec": {
   "display_name": ".venv",
   "language": "python",
   "name": "python3"
  },
  "language_info": {
   "codemirror_mode": {
    "name": "ipython",
    "version": 3
   },
   "file_extension": ".py",
   "mimetype": "text/x-python",
   "name": "python",
   "nbconvert_exporter": "python",
   "pygments_lexer": "ipython3",
   "version": "3.8.10"
  }
 },
 "nbformat": 4,
 "nbformat_minor": 2
}
